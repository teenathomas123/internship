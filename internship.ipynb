{
 "cells": [
  {
   "cell_type": "code",
   "execution_count": 1,
   "id": "db66bb7a",
   "metadata": {},
   "outputs": [],
   "source": [
    "import numpy as np\n",
    "import pandas as pd\n",
    "import warnings\n",
    "warnings.filterwarnings(\"ignore\")"
   ]
  },
  {
   "cell_type": "code",
   "execution_count": 2,
   "id": "5e8f52c0",
   "metadata": {},
   "outputs": [],
   "source": [
    "import matplotlib.pyplot as plt"
   ]
  },
  {
   "cell_type": "markdown",
   "id": "bc3b2b20",
   "metadata": {},
   "source": [
    "##### READ THE DATASET"
   ]
  },
  {
   "cell_type": "code",
   "execution_count": 3,
   "id": "b099e8c3",
   "metadata": {},
   "outputs": [],
   "source": [
    "data=pd.read_csv(\"webmd.csv\")"
   ]
  },
  {
   "cell_type": "code",
   "execution_count": 4,
   "id": "6c1c74fd",
   "metadata": {},
   "outputs": [
    {
     "data": {
      "text/html": [
       "<div>\n",
       "<style scoped>\n",
       "    .dataframe tbody tr th:only-of-type {\n",
       "        vertical-align: middle;\n",
       "    }\n",
       "\n",
       "    .dataframe tbody tr th {\n",
       "        vertical-align: top;\n",
       "    }\n",
       "\n",
       "    .dataframe thead th {\n",
       "        text-align: right;\n",
       "    }\n",
       "</style>\n",
       "<table border=\"1\" class=\"dataframe\">\n",
       "  <thead>\n",
       "    <tr style=\"text-align: right;\">\n",
       "      <th></th>\n",
       "      <th>Age</th>\n",
       "      <th>Condition</th>\n",
       "      <th>Date</th>\n",
       "      <th>Drug</th>\n",
       "      <th>DrugId</th>\n",
       "      <th>EaseofUse</th>\n",
       "      <th>Effectiveness</th>\n",
       "      <th>Reviews</th>\n",
       "      <th>Satisfaction</th>\n",
       "      <th>Sex</th>\n",
       "      <th>Sides</th>\n",
       "      <th>UsefulCount</th>\n",
       "    </tr>\n",
       "  </thead>\n",
       "  <tbody>\n",
       "    <tr>\n",
       "      <th>0</th>\n",
       "      <td>75 or over</td>\n",
       "      <td>Stuffy Nose</td>\n",
       "      <td>9/21/2014</td>\n",
       "      <td>25dph-7.5peh</td>\n",
       "      <td>146724</td>\n",
       "      <td>5</td>\n",
       "      <td>5</td>\n",
       "      <td>I'm a retired physician and of all the meds I ...</td>\n",
       "      <td>5</td>\n",
       "      <td>Male</td>\n",
       "      <td>Drowsiness,  dizziness ,  dry mouth /nose/thro...</td>\n",
       "      <td>0</td>\n",
       "    </tr>\n",
       "    <tr>\n",
       "      <th>1</th>\n",
       "      <td>25-34</td>\n",
       "      <td>Cold Symptoms</td>\n",
       "      <td>1/13/2011</td>\n",
       "      <td>25dph-7.5peh</td>\n",
       "      <td>146724</td>\n",
       "      <td>5</td>\n",
       "      <td>5</td>\n",
       "      <td>cleared me right up even with my throat hurtin...</td>\n",
       "      <td>5</td>\n",
       "      <td>Female</td>\n",
       "      <td>Drowsiness,  dizziness ,  dry mouth /nose/thro...</td>\n",
       "      <td>1</td>\n",
       "    </tr>\n",
       "    <tr>\n",
       "      <th>2</th>\n",
       "      <td>65-74</td>\n",
       "      <td>Other</td>\n",
       "      <td>7/16/2012</td>\n",
       "      <td>warfarin (bulk) 100 % powder</td>\n",
       "      <td>144731</td>\n",
       "      <td>2</td>\n",
       "      <td>3</td>\n",
       "      <td>why did my PTINR go from a normal of 2.5 to ov...</td>\n",
       "      <td>3</td>\n",
       "      <td>Female</td>\n",
       "      <td></td>\n",
       "      <td>0</td>\n",
       "    </tr>\n",
       "    <tr>\n",
       "      <th>3</th>\n",
       "      <td>75 or over</td>\n",
       "      <td>Other</td>\n",
       "      <td>9/23/2010</td>\n",
       "      <td>warfarin (bulk) 100 % powder</td>\n",
       "      <td>144731</td>\n",
       "      <td>2</td>\n",
       "      <td>2</td>\n",
       "      <td>FALLING AND DON'T REALISE IT</td>\n",
       "      <td>1</td>\n",
       "      <td>Female</td>\n",
       "      <td></td>\n",
       "      <td>0</td>\n",
       "    </tr>\n",
       "    <tr>\n",
       "      <th>4</th>\n",
       "      <td>35-44</td>\n",
       "      <td>Other</td>\n",
       "      <td>1/6/2009</td>\n",
       "      <td>warfarin (bulk) 100 % powder</td>\n",
       "      <td>144731</td>\n",
       "      <td>1</td>\n",
       "      <td>1</td>\n",
       "      <td>My grandfather was prescribed this medication ...</td>\n",
       "      <td>1</td>\n",
       "      <td>Male</td>\n",
       "      <td></td>\n",
       "      <td>1</td>\n",
       "    </tr>\n",
       "  </tbody>\n",
       "</table>\n",
       "</div>"
      ],
      "text/plain": [
       "          Age      Condition       Date                          Drug  DrugId  \\\n",
       "0  75 or over    Stuffy Nose  9/21/2014                  25dph-7.5peh  146724   \n",
       "1       25-34  Cold Symptoms  1/13/2011                  25dph-7.5peh  146724   \n",
       "2       65-74          Other  7/16/2012  warfarin (bulk) 100 % powder  144731   \n",
       "3  75 or over          Other  9/23/2010  warfarin (bulk) 100 % powder  144731   \n",
       "4       35-44          Other   1/6/2009  warfarin (bulk) 100 % powder  144731   \n",
       "\n",
       "   EaseofUse  Effectiveness  \\\n",
       "0          5              5   \n",
       "1          5              5   \n",
       "2          2              3   \n",
       "3          2              2   \n",
       "4          1              1   \n",
       "\n",
       "                                             Reviews  Satisfaction     Sex  \\\n",
       "0  I'm a retired physician and of all the meds I ...             5    Male   \n",
       "1  cleared me right up even with my throat hurtin...             5  Female   \n",
       "2  why did my PTINR go from a normal of 2.5 to ov...             3  Female   \n",
       "3                       FALLING AND DON'T REALISE IT             1  Female   \n",
       "4  My grandfather was prescribed this medication ...             1    Male   \n",
       "\n",
       "                                               Sides  UsefulCount  \n",
       "0  Drowsiness,  dizziness ,  dry mouth /nose/thro...            0  \n",
       "1  Drowsiness,  dizziness ,  dry mouth /nose/thro...            1  \n",
       "2                                                               0  \n",
       "3                                                               0  \n",
       "4                                                               1  "
      ]
     },
     "execution_count": 4,
     "metadata": {},
     "output_type": "execute_result"
    }
   ],
   "source": [
    "data.head(5)"
   ]
  },
  {
   "cell_type": "code",
   "execution_count": 5,
   "id": "30b67109",
   "metadata": {},
   "outputs": [
    {
     "name": "stdout",
     "output_type": "stream",
     "text": [
      "<class 'pandas.core.frame.DataFrame'>\n",
      "RangeIndex: 362806 entries, 0 to 362805\n",
      "Data columns (total 12 columns):\n",
      " #   Column         Non-Null Count   Dtype \n",
      "---  ------         --------------   ----- \n",
      " 0   Age            362806 non-null  object\n",
      " 1   Condition      362806 non-null  object\n",
      " 2   Date           362806 non-null  object\n",
      " 3   Drug           362806 non-null  object\n",
      " 4   DrugId         362806 non-null  int64 \n",
      " 5   EaseofUse      362806 non-null  int64 \n",
      " 6   Effectiveness  362806 non-null  int64 \n",
      " 7   Reviews        362769 non-null  object\n",
      " 8   Satisfaction   362806 non-null  int64 \n",
      " 9   Sex            362806 non-null  object\n",
      " 10  Sides          362806 non-null  object\n",
      " 11  UsefulCount    362806 non-null  int64 \n",
      "dtypes: int64(5), object(7)\n",
      "memory usage: 33.2+ MB\n"
     ]
    }
   ],
   "source": [
    "data.info()"
   ]
  },
  {
   "cell_type": "markdown",
   "id": "a00e4ae8",
   "metadata": {},
   "source": [
    "#### Preprocessing"
   ]
  },
  {
   "cell_type": "code",
   "execution_count": 6,
   "id": "2e4e54b5",
   "metadata": {},
   "outputs": [
    {
     "data": {
      "text/html": [
       "<div>\n",
       "<style scoped>\n",
       "    .dataframe tbody tr th:only-of-type {\n",
       "        vertical-align: middle;\n",
       "    }\n",
       "\n",
       "    .dataframe tbody tr th {\n",
       "        vertical-align: top;\n",
       "    }\n",
       "\n",
       "    .dataframe thead th {\n",
       "        text-align: right;\n",
       "    }\n",
       "</style>\n",
       "<table border=\"1\" class=\"dataframe\">\n",
       "  <thead>\n",
       "    <tr style=\"text-align: right;\">\n",
       "      <th></th>\n",
       "      <th>DrugId</th>\n",
       "      <th>EaseofUse</th>\n",
       "      <th>Effectiveness</th>\n",
       "      <th>Satisfaction</th>\n",
       "      <th>UsefulCount</th>\n",
       "    </tr>\n",
       "  </thead>\n",
       "  <tbody>\n",
       "    <tr>\n",
       "      <th>count</th>\n",
       "      <td>362806.000000</td>\n",
       "      <td>362806.000000</td>\n",
       "      <td>362806.000000</td>\n",
       "      <td>362806.000000</td>\n",
       "      <td>362806.000000</td>\n",
       "    </tr>\n",
       "    <tr>\n",
       "      <th>mean</th>\n",
       "      <td>36879.370774</td>\n",
       "      <td>4.019829</td>\n",
       "      <td>3.532061</td>\n",
       "      <td>3.135408</td>\n",
       "      <td>6.744916</td>\n",
       "    </tr>\n",
       "    <tr>\n",
       "      <th>std</th>\n",
       "      <td>52624.412971</td>\n",
       "      <td>1.317711</td>\n",
       "      <td>1.455961</td>\n",
       "      <td>1.611106</td>\n",
       "      <td>9.324240</td>\n",
       "    </tr>\n",
       "    <tr>\n",
       "      <th>min</th>\n",
       "      <td>1.000000</td>\n",
       "      <td>1.000000</td>\n",
       "      <td>1.000000</td>\n",
       "      <td>1.000000</td>\n",
       "      <td>0.000000</td>\n",
       "    </tr>\n",
       "    <tr>\n",
       "      <th>25%</th>\n",
       "      <td>4896.000000</td>\n",
       "      <td>3.000000</td>\n",
       "      <td>3.000000</td>\n",
       "      <td>1.000000</td>\n",
       "      <td>1.000000</td>\n",
       "    </tr>\n",
       "    <tr>\n",
       "      <th>50%</th>\n",
       "      <td>9548.000000</td>\n",
       "      <td>5.000000</td>\n",
       "      <td>4.000000</td>\n",
       "      <td>3.000000</td>\n",
       "      <td>4.000000</td>\n",
       "    </tr>\n",
       "    <tr>\n",
       "      <th>75%</th>\n",
       "      <td>63522.000000</td>\n",
       "      <td>5.000000</td>\n",
       "      <td>5.000000</td>\n",
       "      <td>5.000000</td>\n",
       "      <td>9.000000</td>\n",
       "    </tr>\n",
       "    <tr>\n",
       "      <th>max</th>\n",
       "      <td>178546.000000</td>\n",
       "      <td>10.000000</td>\n",
       "      <td>10.000000</td>\n",
       "      <td>10.000000</td>\n",
       "      <td>255.000000</td>\n",
       "    </tr>\n",
       "  </tbody>\n",
       "</table>\n",
       "</div>"
      ],
      "text/plain": [
       "              DrugId      EaseofUse  Effectiveness   Satisfaction  \\\n",
       "count  362806.000000  362806.000000  362806.000000  362806.000000   \n",
       "mean    36879.370774       4.019829       3.532061       3.135408   \n",
       "std     52624.412971       1.317711       1.455961       1.611106   \n",
       "min         1.000000       1.000000       1.000000       1.000000   \n",
       "25%      4896.000000       3.000000       3.000000       1.000000   \n",
       "50%      9548.000000       5.000000       4.000000       3.000000   \n",
       "75%     63522.000000       5.000000       5.000000       5.000000   \n",
       "max    178546.000000      10.000000      10.000000      10.000000   \n",
       "\n",
       "         UsefulCount  \n",
       "count  362806.000000  \n",
       "mean        6.744916  \n",
       "std         9.324240  \n",
       "min         0.000000  \n",
       "25%         1.000000  \n",
       "50%         4.000000  \n",
       "75%         9.000000  \n",
       "max       255.000000  "
      ]
     },
     "execution_count": 6,
     "metadata": {},
     "output_type": "execute_result"
    }
   ],
   "source": [
    "data.describe()"
   ]
  },
  {
   "cell_type": "code",
   "execution_count": 7,
   "id": "36073f5f",
   "metadata": {},
   "outputs": [
    {
     "data": {
      "text/plain": [
       "Age               0\n",
       "Condition         0\n",
       "Date              0\n",
       "Drug              0\n",
       "DrugId            0\n",
       "EaseofUse         0\n",
       "Effectiveness     0\n",
       "Reviews          37\n",
       "Satisfaction      0\n",
       "Sex               0\n",
       "Sides             0\n",
       "UsefulCount       0\n",
       "dtype: int64"
      ]
     },
     "execution_count": 7,
     "metadata": {},
     "output_type": "execute_result"
    }
   ],
   "source": [
    "data.isna().sum()"
   ]
  },
  {
   "cell_type": "code",
   "execution_count": 8,
   "id": "a90da41e",
   "metadata": {},
   "outputs": [
    {
     "data": {
      "text/plain": [
       "array([\"I'm a retired physician and of all the meds I have tried for my allergies (seasonal and not) - this one is the most effective for me.  When I first began using this drug some years ago - tiredness as a problem but is not currently.\",\n",
       "       'cleared me right up even with my throat hurting it went away after taking the medicine',\n",
       "       'why did my PTINR go from a normal of 2.5 to over \\n100?', ...,\n",
       "       \"As long as I was on chantix, I didn't smoke.  Terrible stomach upset after each dose, constipation, headaches constantly, crazy dreams and mood swings.  I have had to stop taking it and have found other ways to stop smoking.\",\n",
       "       \"Started this medication Oct 5th 2008. Haven't smoked for 6 weeks and planning on the full 12 weeks program.  I have had some problems like getting sick after the meds but accually it helps because everytime I see a smoker or smell smoke I get sick, still want one but it offsets it.\",\n",
       "       \"One year ago, I tried Chantix and had to stop taking it because I was so nauseous in the morning.  Three weeks ago I started it again and found that if I eat 10 minutes before taking the pill, I don't get nauseous at all.  I have been smoke free for two weeks and will never smoke again.  \"],\n",
       "      dtype=object)"
      ]
     },
     "execution_count": 8,
     "metadata": {},
     "output_type": "execute_result"
    }
   ],
   "source": [
    "data.Reviews.unique()"
   ]
  },
  {
   "cell_type": "code",
   "execution_count": 9,
   "id": "3807bcb8",
   "metadata": {
    "scrolled": true
   },
   "outputs": [],
   "source": [
    "data.dropna(inplace=True)"
   ]
  },
  {
   "cell_type": "code",
   "execution_count": 10,
   "id": "535a7a90",
   "metadata": {},
   "outputs": [
    {
     "data": {
      "text/plain": [
       "Age              0\n",
       "Condition        0\n",
       "Date             0\n",
       "Drug             0\n",
       "DrugId           0\n",
       "EaseofUse        0\n",
       "Effectiveness    0\n",
       "Reviews          0\n",
       "Satisfaction     0\n",
       "Sex              0\n",
       "Sides            0\n",
       "UsefulCount      0\n",
       "dtype: int64"
      ]
     },
     "execution_count": 10,
     "metadata": {},
     "output_type": "execute_result"
    }
   ],
   "source": [
    "data.isna().sum()"
   ]
  },
  {
   "cell_type": "markdown",
   "id": "146e5080",
   "metadata": {},
   "source": [
    "##### CHECKING DUPLICATES"
   ]
  },
  {
   "cell_type": "code",
   "execution_count": 11,
   "id": "05eef993",
   "metadata": {},
   "outputs": [
    {
     "data": {
      "text/plain": [
       "(943, 12)"
      ]
     },
     "execution_count": 11,
     "metadata": {},
     "output_type": "execute_result"
    }
   ],
   "source": [
    "data[data.duplicated()].shape"
   ]
  },
  {
   "cell_type": "code",
   "execution_count": 12,
   "id": "facfe27c",
   "metadata": {},
   "outputs": [
    {
     "data": {
      "text/html": [
       "<div>\n",
       "<style scoped>\n",
       "    .dataframe tbody tr th:only-of-type {\n",
       "        vertical-align: middle;\n",
       "    }\n",
       "\n",
       "    .dataframe tbody tr th {\n",
       "        vertical-align: top;\n",
       "    }\n",
       "\n",
       "    .dataframe thead th {\n",
       "        text-align: right;\n",
       "    }\n",
       "</style>\n",
       "<table border=\"1\" class=\"dataframe\">\n",
       "  <thead>\n",
       "    <tr style=\"text-align: right;\">\n",
       "      <th></th>\n",
       "      <th>Age</th>\n",
       "      <th>Condition</th>\n",
       "      <th>Date</th>\n",
       "      <th>Drug</th>\n",
       "      <th>DrugId</th>\n",
       "      <th>EaseofUse</th>\n",
       "      <th>Effectiveness</th>\n",
       "      <th>Reviews</th>\n",
       "      <th>Satisfaction</th>\n",
       "      <th>Sex</th>\n",
       "      <th>Sides</th>\n",
       "      <th>UsefulCount</th>\n",
       "    </tr>\n",
       "  </thead>\n",
       "  <tbody>\n",
       "    <tr>\n",
       "      <th>12102</th>\n",
       "      <td>55-64</td>\n",
       "      <td>High Blood Pressure</td>\n",
       "      <td>5/22/2013</td>\n",
       "      <td>lisinopril solution</td>\n",
       "      <td>6873</td>\n",
       "      <td>5</td>\n",
       "      <td>5</td>\n",
       "      <td></td>\n",
       "      <td>5</td>\n",
       "      <td>Male</td>\n",
       "      <td>Dizziness ,  lightheadedness , tiredness, or  ...</td>\n",
       "      <td>0</td>\n",
       "    </tr>\n",
       "    <tr>\n",
       "      <th>17120</th>\n",
       "      <td>55-64</td>\n",
       "      <td>High Blood Pressure</td>\n",
       "      <td>5/22/2013</td>\n",
       "      <td>lisinopril</td>\n",
       "      <td>6873</td>\n",
       "      <td>5</td>\n",
       "      <td>5</td>\n",
       "      <td></td>\n",
       "      <td>5</td>\n",
       "      <td>Male</td>\n",
       "      <td>Dizziness ,  lightheadedness , tiredness, or  ...</td>\n",
       "      <td>0</td>\n",
       "    </tr>\n",
       "    <tr>\n",
       "      <th>21816</th>\n",
       "      <td>75 or over</td>\n",
       "      <td>Other</td>\n",
       "      <td>9/6/2015</td>\n",
       "      <td>lucentis vial</td>\n",
       "      <td>144667</td>\n",
       "      <td>1</td>\n",
       "      <td>1</td>\n",
       "      <td>My father was in end stage Macular degenration...</td>\n",
       "      <td>1</td>\n",
       "      <td>Male</td>\n",
       "      <td>Mild discomfort and increased tears may occur ...</td>\n",
       "      <td>0</td>\n",
       "    </tr>\n",
       "    <tr>\n",
       "      <th>22427</th>\n",
       "      <td>35-44</td>\n",
       "      <td>Abnormally Long or Heavy Periods</td>\n",
       "      <td>8/22/2019</td>\n",
       "      <td>larin fe</td>\n",
       "      <td>165169</td>\n",
       "      <td>4</td>\n",
       "      <td>4</td>\n",
       "      <td>Tired and nauseous the first week taking Larin...</td>\n",
       "      <td>4</td>\n",
       "      <td>Female</td>\n",
       "      <td>Nausea ,  vomiting ,  headache ,  bloating ,  ...</td>\n",
       "      <td>0</td>\n",
       "    </tr>\n",
       "    <tr>\n",
       "      <th>24302</th>\n",
       "      <td>25-34</td>\n",
       "      <td>Fungal Infection of Fingernails - Onychomycosis</td>\n",
       "      <td>8/3/2019</td>\n",
       "      <td>lamisil tablet</td>\n",
       "      <td>12422</td>\n",
       "      <td>2</td>\n",
       "      <td>2</td>\n",
       "      <td>Had a rare-ish fungal infection starting at th...</td>\n",
       "      <td>1</td>\n",
       "      <td></td>\n",
       "      <td>Diarrhea  or  stomach  upset may occur.</td>\n",
       "      <td>0</td>\n",
       "    </tr>\n",
       "    <tr>\n",
       "      <th>...</th>\n",
       "      <td>...</td>\n",
       "      <td>...</td>\n",
       "      <td>...</td>\n",
       "      <td>...</td>\n",
       "      <td>...</td>\n",
       "      <td>...</td>\n",
       "      <td>...</td>\n",
       "      <td>...</td>\n",
       "      <td>...</td>\n",
       "      <td>...</td>\n",
       "      <td>...</td>\n",
       "      <td>...</td>\n",
       "    </tr>\n",
       "    <tr>\n",
       "      <th>339647</th>\n",
       "      <td>55-64</td>\n",
       "      <td>Diverticulitis</td>\n",
       "      <td>8/9/2019</td>\n",
       "      <td>cipro</td>\n",
       "      <td>1124</td>\n",
       "      <td>1</td>\n",
       "      <td>3</td>\n",
       "      <td>Helped  ease Diverticulitis pain when combined...</td>\n",
       "      <td>1</td>\n",
       "      <td>Female</td>\n",
       "      <td>Nausea ,  diarrhea ,  dizziness ,  lightheaded...</td>\n",
       "      <td>0</td>\n",
       "    </tr>\n",
       "    <tr>\n",
       "      <th>339648</th>\n",
       "      <td>55-64</td>\n",
       "      <td>Diverticulitis</td>\n",
       "      <td>8/9/2019</td>\n",
       "      <td>cipro suspension, microcapsule reconstituted</td>\n",
       "      <td>1124</td>\n",
       "      <td>1</td>\n",
       "      <td>3</td>\n",
       "      <td>Helped  ease Diverticulitis pain when combined...</td>\n",
       "      <td>1</td>\n",
       "      <td>Female</td>\n",
       "      <td>Nausea ,  diarrhea ,  dizziness ,  lightheaded...</td>\n",
       "      <td>0</td>\n",
       "    </tr>\n",
       "    <tr>\n",
       "      <th>343090</th>\n",
       "      <td>25-34</td>\n",
       "      <td>Excessive Sweating</td>\n",
       "      <td>9/20/2019</td>\n",
       "      <td>clonidine hcl er</td>\n",
       "      <td>11754</td>\n",
       "      <td>5</td>\n",
       "      <td>5</td>\n",
       "      <td>Medication did exactly what I needed it to do....</td>\n",
       "      <td>5</td>\n",
       "      <td>Male</td>\n",
       "      <td>Dizziness ,  lightheadedness , drowsiness, tir...</td>\n",
       "      <td>0</td>\n",
       "    </tr>\n",
       "    <tr>\n",
       "      <th>343390</th>\n",
       "      <td>25-34</td>\n",
       "      <td>Excessive Sweating</td>\n",
       "      <td>9/20/2019</td>\n",
       "      <td>clonidine hcl</td>\n",
       "      <td>11754</td>\n",
       "      <td>5</td>\n",
       "      <td>5</td>\n",
       "      <td>Medication did exactly what I needed it to do....</td>\n",
       "      <td>5</td>\n",
       "      <td>Male</td>\n",
       "      <td>Dizziness ,  lightheadedness , drowsiness,  dr...</td>\n",
       "      <td>0</td>\n",
       "    </tr>\n",
       "    <tr>\n",
       "      <th>353563</th>\n",
       "      <td>55-64</td>\n",
       "      <td>Drying and Inflammation of Cornea and Conjunct...</td>\n",
       "      <td>11/13/2019</td>\n",
       "      <td>cequa dropperette, single use dropper</td>\n",
       "      <td>176582</td>\n",
       "      <td>4</td>\n",
       "      <td>1</td>\n",
       "      <td>My eyes feel like they are burning with this m...</td>\n",
       "      <td>1</td>\n",
       "      <td>Female</td>\n",
       "      <td>Eye  discomfort/redness/ itching , feeling as ...</td>\n",
       "      <td>0</td>\n",
       "    </tr>\n",
       "  </tbody>\n",
       "</table>\n",
       "<p>943 rows × 12 columns</p>\n",
       "</div>"
      ],
      "text/plain": [
       "               Age                                          Condition  \\\n",
       "12102        55-64                                High Blood Pressure   \n",
       "17120        55-64                                High Blood Pressure   \n",
       "21816   75 or over                                              Other   \n",
       "22427        35-44                   Abnormally Long or Heavy Periods   \n",
       "24302        25-34    Fungal Infection of Fingernails - Onychomycosis   \n",
       "...            ...                                                ...   \n",
       "339647       55-64                                     Diverticulitis   \n",
       "339648       55-64                                     Diverticulitis   \n",
       "343090       25-34                                 Excessive Sweating   \n",
       "343390       25-34                                 Excessive Sweating   \n",
       "353563       55-64  Drying and Inflammation of Cornea and Conjunct...   \n",
       "\n",
       "              Date                                          Drug  DrugId  \\\n",
       "12102    5/22/2013                           lisinopril solution    6873   \n",
       "17120    5/22/2013                                    lisinopril    6873   \n",
       "21816     9/6/2015                                 lucentis vial  144667   \n",
       "22427    8/22/2019                                      larin fe  165169   \n",
       "24302     8/3/2019                                lamisil tablet   12422   \n",
       "...            ...                                           ...     ...   \n",
       "339647    8/9/2019                                         cipro    1124   \n",
       "339648    8/9/2019  cipro suspension, microcapsule reconstituted    1124   \n",
       "343090   9/20/2019                              clonidine hcl er   11754   \n",
       "343390   9/20/2019                                 clonidine hcl   11754   \n",
       "353563  11/13/2019         cequa dropperette, single use dropper  176582   \n",
       "\n",
       "        EaseofUse  Effectiveness  \\\n",
       "12102           5              5   \n",
       "17120           5              5   \n",
       "21816           1              1   \n",
       "22427           4              4   \n",
       "24302           2              2   \n",
       "...           ...            ...   \n",
       "339647          1              3   \n",
       "339648          1              3   \n",
       "343090          5              5   \n",
       "343390          5              5   \n",
       "353563          4              1   \n",
       "\n",
       "                                                  Reviews  Satisfaction  \\\n",
       "12102                                                                 5   \n",
       "17120                                                                 5   \n",
       "21816   My father was in end stage Macular degenration...             1   \n",
       "22427   Tired and nauseous the first week taking Larin...             4   \n",
       "24302   Had a rare-ish fungal infection starting at th...             1   \n",
       "...                                                   ...           ...   \n",
       "339647  Helped  ease Diverticulitis pain when combined...             1   \n",
       "339648  Helped  ease Diverticulitis pain when combined...             1   \n",
       "343090  Medication did exactly what I needed it to do....             5   \n",
       "343390  Medication did exactly what I needed it to do....             5   \n",
       "353563  My eyes feel like they are burning with this m...             1   \n",
       "\n",
       "           Sex                                              Sides  UsefulCount  \n",
       "12102     Male  Dizziness ,  lightheadedness , tiredness, or  ...            0  \n",
       "17120     Male  Dizziness ,  lightheadedness , tiredness, or  ...            0  \n",
       "21816     Male  Mild discomfort and increased tears may occur ...            0  \n",
       "22427   Female  Nausea ,  vomiting ,  headache ,  bloating ,  ...            0  \n",
       "24302                     Diarrhea  or  stomach  upset may occur.            0  \n",
       "...        ...                                                ...          ...  \n",
       "339647  Female  Nausea ,  diarrhea ,  dizziness ,  lightheaded...            0  \n",
       "339648  Female  Nausea ,  diarrhea ,  dizziness ,  lightheaded...            0  \n",
       "343090    Male  Dizziness ,  lightheadedness , drowsiness, tir...            0  \n",
       "343390    Male  Dizziness ,  lightheadedness , drowsiness,  dr...            0  \n",
       "353563  Female  Eye  discomfort/redness/ itching , feeling as ...            0  \n",
       "\n",
       "[943 rows x 12 columns]"
      ]
     },
     "execution_count": 12,
     "metadata": {},
     "output_type": "execute_result"
    }
   ],
   "source": [
    "data[data.duplicated()]"
   ]
  },
  {
   "cell_type": "code",
   "execution_count": 13,
   "id": "9f72e769",
   "metadata": {},
   "outputs": [],
   "source": [
    "data=data.drop_duplicates()"
   ]
  },
  {
   "cell_type": "code",
   "execution_count": 14,
   "id": "1a02ee36",
   "metadata": {},
   "outputs": [
    {
     "data": {
      "text/plain": [
       "(0, 12)"
      ]
     },
     "execution_count": 14,
     "metadata": {},
     "output_type": "execute_result"
    }
   ],
   "source": [
    "data[data.duplicated()].shape"
   ]
  },
  {
   "cell_type": "markdown",
   "id": "0f8f3912",
   "metadata": {},
   "source": [
    "##### CHECKING OUTLIERS"
   ]
  },
  {
   "cell_type": "code",
   "execution_count": 15,
   "id": "7a295783",
   "metadata": {},
   "outputs": [],
   "source": [
    "import matplotlib.pyplot as plt\n",
    "import seaborn as sns"
   ]
  },
  {
   "cell_type": "code",
   "execution_count": 16,
   "id": "b87d5484",
   "metadata": {},
   "outputs": [
    {
     "data": {
      "image/png": "[encoded data removed]",
      "text/plain": [
       "<Figure size 1800x1440 with 1 Axes>"
      ]
     },
     "metadata": {
      "needs_background": "light"
     },
     "output_type": "display_data"
    }
   ],
   "source": [
    "plt.figure(figsize=(25,20))\n",
    "sns.boxplot(data=data.select_dtypes(include = ['int64']),width=0.5)\n",
    "plt.title('All numeric box plots')\n",
    "plt.show()"
   ]
  },
  {
   "cell_type": "code",
   "execution_count": null,
   "id": "79fe723a",
   "metadata": {},
   "outputs": [],
   "source": []
  },
  {
   "cell_type": "code",
   "execution_count": null,
   "id": "9c1d58d1",
   "metadata": {},
   "outputs": [],
   "source": []
  }
 ],
 "metadata": {
  "kernelspec": {
   "display_name": "Python 3 (ipykernel)",
   "language": "python",
   "name": "python3"
  },
  "language_info": {
   "codemirror_mode": {
    "name": "ipython",
    "version": 3
   },
   "file_extension": ".py",
   "mimetype": "text/x-python",
   "name": "python",
   "nbconvert_exporter": "python",
   "pygments_lexer": "ipython3",
   "version": "3.9.7"
  }
 },
 "nbformat": 4,
 "nbformat_minor": 5
}
